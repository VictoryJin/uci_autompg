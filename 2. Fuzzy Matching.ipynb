{
 "cells": [
  {
   "cell_type": "markdown",
   "id": "400073e1-00d5-4ed1-965b-6f07938a96cc",
   "metadata": {},
   "source": [
    "# Introduction\n",
    "The following code will analyze the `name` column for feature engineering  \n",
    "**TODOS**:  \n",
    "* [ ] Hard-coded fuzzy matching\n",
    "* [ ] fuzzywuzzy library\n",
    "* [ ] comparison of performance\n",
    "* [ ] implement into preprocessing code"
   ]
  },
  {
   "cell_type": "code",
   "execution_count": null,
   "id": "0b170d3a-263f-4923-9050-910edffd633c",
   "metadata": {},
   "outputs": [],
   "source": []
  }
 ],
 "metadata": {
  "kernelspec": {
   "display_name": "Python 3 (ipykernel)",
   "language": "python",
   "name": "python3"
  },
  "language_info": {
   "codemirror_mode": {
    "name": "ipython",
    "version": 3
   },
   "file_extension": ".py",
   "mimetype": "text/x-python",
   "name": "python",
   "nbconvert_exporter": "python",
   "pygments_lexer": "ipython3",
   "version": "3.9.5"
  }
 },
 "nbformat": 4,
 "nbformat_minor": 5
}
