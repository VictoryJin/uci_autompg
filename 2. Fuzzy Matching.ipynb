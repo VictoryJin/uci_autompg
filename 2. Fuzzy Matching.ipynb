{
 "cells": [
  {
   "cell_type": "markdown",
   "id": "400073e1-00d5-4ed1-965b-6f07938a96cc",
   "metadata": {},
   "source": [
    "# Introduction\n",
    "The following code will analyze the `name` column for feature engineering  \n",
    "**TODOS**:  \n",
    "* [ ] Hard-coded fuzzy matching\n",
    "* [ ] fuzzywuzzy library\n",
    "* [ ] comparison of performance\n",
    "* [ ] implement into preprocessing code"
   ]
  },
  {
   "cell_type": "code",
   "execution_count": 1,
   "id": "438d5dd0-4f27-453d-97ed-e93657bbfd04",
   "metadata": {},
   "outputs": [],
   "source": [
    "import numpy as np\n",
    "\n",
    "from src.utils import import_dataset, lazy_ldist"
   ]
  },
  {
   "cell_type": "code",
   "execution_count": 2,
   "id": "0b170d3a-263f-4923-9050-910edffd633c",
   "metadata": {},
   "outputs": [],
   "source": [
    "dat = import_dataset()\n",
    "dat = dat['name']"
   ]
  },
  {
   "cell_type": "markdown",
   "id": "81065063-713b-4f6b-b207-30a2bfd19ecd",
   "metadata": {},
   "source": [
    "# Quick test - manually implemented recursive levenstein distance\n",
    "Under `src/utils.py`. Future string distance uses `fuzzywuzzy` library\n",
    "```python\n",
    ">>> lazy_ldist('test_insertion', 'test_insertion_extra')\n",
    "6\n",
    ">>> lazy_ldist('test_deletion', 'test')\n",
    "9\n",
    ">>> lazy_ldist('asdf', 'dsdf')\n",
    "1\n",
    ">>> lazy_ldist('test_replacement', 'xesd_replacement')\n",
    "# Should be 2, but takes infinite due insertion. Same happens with actual data\n",
    "```"
   ]
  },
  {
   "cell_type": "markdown",
   "id": "bf300e61-308c-48a8-bdcf-338171cf3e92",
   "metadata": {},
   "source": [
    "# Identify similar models"
   ]
  },
  {
   "cell_type": "code",
   "execution_count": 3,
   "id": "838b4beb-f1a2-46e8-9dac-abe61ce2a53a",
   "metadata": {},
   "outputs": [],
   "source": [
    "models = dat.apply(lambda x: x.split(' ')[0])"
   ]
  },
  {
   "cell_type": "code",
   "execution_count": 4,
   "id": "a58c38e7-a68c-42c1-ba23-f25ca0b4a615",
   "metadata": {},
   "outputs": [],
   "source": [
    "import fuzzywuzzy"
   ]
  },
  {
   "cell_type": "code",
   "execution_count": null,
   "id": "6e80c4b3-d3dc-431f-8599-1a0478618d18",
   "metadata": {},
   "outputs": [],
   "source": []
  }
 ],
 "metadata": {
  "kernelspec": {
   "display_name": "Python 3 (ipykernel)",
   "language": "python",
   "name": "python3"
  },
  "language_info": {
   "codemirror_mode": {
    "name": "ipython",
    "version": 3
   },
   "file_extension": ".py",
   "mimetype": "text/x-python",
   "name": "python",
   "nbconvert_exporter": "python",
   "pygments_lexer": "ipython3",
   "version": "3.7.10"
  }
 },
 "nbformat": 4,
 "nbformat_minor": 5
}
