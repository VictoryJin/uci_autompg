{
 "cells": [
  {
   "cell_type": "markdown",
   "id": "2161aabb-9816-404c-9a84-396e860ed91b",
   "metadata": {},
   "source": [
    "# Introduction\n",
    "The following notebook demonstrates the following:  \n",
    "* [X] Train OLS model\n",
    "* [X] Validate assumptions for OLS\n",
    "\n",
    "**NOTE**: The purpose of this notebook is to quickly refer to this set for specific validations and visualizations. It does not bother to do a train/test split. "
   ]
  },
  {
   "cell_type": "code",
   "execution_count": 1,
   "id": "f3fbd60d-d540-4f52-8417-b134943253f5",
   "metadata": {},
   "outputs": [],
   "source": [
    "import pandas as pd\n",
    "import numpy as np\n",
    "import matplotlib.pyplot as plt\n",
    "from sklearn.linear_model import LinearRegression\n",
    "from sklearn.metrics import mean_squared_error\n",
    "\n",
    "from src.utils import import_dataset, get_column_by_type"
   ]
  },
  {
   "cell_type": "code",
   "execution_count": 2,
   "id": "32804815-7789-4508-870c-220687c9f14b",
   "metadata": {},
   "outputs": [],
   "source": [
    "dat = import_dataset()"
   ]
  },
  {
   "cell_type": "code",
   "execution_count": 3,
   "id": "d0a678df-c332-4843-8db7-9f5becda0608",
   "metadata": {},
   "outputs": [
    {
     "data": {
      "text/html": [
       "<div>\n",
       "<style scoped>\n",
       "    .dataframe tbody tr th:only-of-type {\n",
       "        vertical-align: middle;\n",
       "    }\n",
       "\n",
       "    .dataframe tbody tr th {\n",
       "        vertical-align: top;\n",
       "    }\n",
       "\n",
       "    .dataframe thead th {\n",
       "        text-align: right;\n",
       "    }\n",
       "</style>\n",
       "<table border=\"1\" class=\"dataframe\">\n",
       "  <thead>\n",
       "    <tr style=\"text-align: right;\">\n",
       "      <th></th>\n",
       "      <th>mpg</th>\n",
       "      <th>cylinders</th>\n",
       "      <th>displacement</th>\n",
       "      <th>horsepower</th>\n",
       "      <th>weight</th>\n",
       "      <th>acceleration</th>\n",
       "      <th>year</th>\n",
       "    </tr>\n",
       "  </thead>\n",
       "  <tbody>\n",
       "    <tr>\n",
       "      <th>0</th>\n",
       "      <td>18.0</td>\n",
       "      <td>8</td>\n",
       "      <td>307.0</td>\n",
       "      <td>130.0</td>\n",
       "      <td>3504.0</td>\n",
       "      <td>12.0</td>\n",
       "      <td>70</td>\n",
       "    </tr>\n",
       "    <tr>\n",
       "      <th>1</th>\n",
       "      <td>15.0</td>\n",
       "      <td>8</td>\n",
       "      <td>350.0</td>\n",
       "      <td>165.0</td>\n",
       "      <td>3693.0</td>\n",
       "      <td>11.5</td>\n",
       "      <td>70</td>\n",
       "    </tr>\n",
       "    <tr>\n",
       "      <th>2</th>\n",
       "      <td>18.0</td>\n",
       "      <td>8</td>\n",
       "      <td>318.0</td>\n",
       "      <td>150.0</td>\n",
       "      <td>3436.0</td>\n",
       "      <td>11.0</td>\n",
       "      <td>70</td>\n",
       "    </tr>\n",
       "    <tr>\n",
       "      <th>3</th>\n",
       "      <td>16.0</td>\n",
       "      <td>8</td>\n",
       "      <td>304.0</td>\n",
       "      <td>150.0</td>\n",
       "      <td>3433.0</td>\n",
       "      <td>12.0</td>\n",
       "      <td>70</td>\n",
       "    </tr>\n",
       "    <tr>\n",
       "      <th>4</th>\n",
       "      <td>17.0</td>\n",
       "      <td>8</td>\n",
       "      <td>302.0</td>\n",
       "      <td>140.0</td>\n",
       "      <td>3449.0</td>\n",
       "      <td>10.5</td>\n",
       "      <td>70</td>\n",
       "    </tr>\n",
       "  </tbody>\n",
       "</table>\n",
       "</div>"
      ],
      "text/plain": [
       "    mpg  cylinders  displacement  horsepower  weight  acceleration  year\n",
       "0  18.0          8         307.0       130.0  3504.0          12.0    70\n",
       "1  15.0          8         350.0       165.0  3693.0          11.5    70\n",
       "2  18.0          8         318.0       150.0  3436.0          11.0    70\n",
       "3  16.0          8         304.0       150.0  3433.0          12.0    70\n",
       "4  17.0          8         302.0       140.0  3449.0          10.5    70"
      ]
     },
     "execution_count": 3,
     "metadata": {},
     "output_type": "execute_result"
    }
   ],
   "source": [
    "# get all numeric columns\n",
    "dat = get_column_by_type(dat, object, exclude=True)\n",
    "dat.head()"
   ]
  },
  {
   "cell_type": "code",
   "execution_count": 4,
   "id": "d3a3eea2-14e6-4d42-a6e5-2455ffa4ab08",
   "metadata": {},
   "outputs": [],
   "source": [
    "y = dat['mpg']\n",
    "X = dat.loc[:, dat.columns != 'mpg']"
   ]
  },
  {
   "cell_type": "markdown",
   "id": "ab8611d9-165e-4ca7-9384-2edcf2bf2b13",
   "metadata": {},
   "source": [
    "# Using sklearn's LinearRegression model"
   ]
  },
  {
   "cell_type": "code",
   "execution_count": 5,
   "id": "2c1f451f-dbc0-4ebf-811b-91c34477ba27",
   "metadata": {},
   "outputs": [
    {
     "data": {
      "text/plain": [
       "LinearRegression()"
      ]
     },
     "execution_count": 5,
     "metadata": {},
     "output_type": "execute_result"
    }
   ],
   "source": [
    "model = LinearRegression()\n",
    "model.fit(X, y)"
   ]
  },
  {
   "cell_type": "code",
   "execution_count": 6,
   "id": "190510d9-d596-4c1c-816c-c4d1ab84d497",
   "metadata": {},
   "outputs": [
    {
     "name": "stdout",
     "output_type": "stream",
     "text": [
      "[-3.29859089e-01  7.67843024e-03 -3.91355574e-04 -6.79461791e-03\n",
      "  8.52732469e-02  7.53367180e-01]\n"
     ]
    }
   ],
   "source": [
    "print(model.coef_)"
   ]
  },
  {
   "cell_type": "code",
   "execution_count": 7,
   "id": "f7700ce3-fca2-4f90-9bb9-293884de5c4c",
   "metadata": {},
   "outputs": [],
   "source": [
    "from src.linear_models import *"
   ]
  },
  {
   "cell_type": "code",
   "execution_count": 8,
   "id": "57b8d3ba-f3f6-4f95-a819-dbbd4e82cea2",
   "metadata": {},
   "outputs": [],
   "source": [
    "y_pred = model.predict(X)"
   ]
  },
  {
   "cell_type": "markdown",
   "id": "8a863b3f-2b35-4e35-9703-b955560a94d0",
   "metadata": {},
   "source": [
    "# Validated model performance"
   ]
  },
  {
   "cell_type": "code",
   "execution_count": 10,
   "id": "f2220482-f1c7-4a87-a06b-6b2a6637fa7b",
   "metadata": {},
   "outputs": [
    {
     "data": {
      "image/png": "[encoded data removed]",
      "text/plain": [
       "<Figure size 432x288 with 1 Axes>"
      ]
     },
     "metadata": {
      "needs_background": "light"
     },
     "output_type": "display_data"
    }
   ],
   "source": [
    "plot_error_distribution(y, y_pred)"
   ]
  },
  {
   "cell_type": "markdown",
   "id": "7920e4ea-cba1-4d39-bbb7-6408dcfc2523",
   "metadata": {},
   "source": [
    "# Validate assumptions\n",
    "### Assumption 1: Normality in error distribution"
   ]
  },
  {
   "cell_type": "code",
   "execution_count": 11,
   "id": "0d0b8faa-7a8c-4f30-98bb-197b98165325",
   "metadata": {},
   "outputs": [
    {
     "name": "stdout",
     "output_type": "stream",
     "text": [
      "Error does not satisfy normality assumption\n"
     ]
    },
    {
     "name": "stderr",
     "output_type": "stream",
     "text": [
      "/home/victoryjin99/miniconda3/envs/uci_autompg/lib/python3.9/site-packages/seaborn/distributions.py:2557: FutureWarning: `distplot` is a deprecated function and will be removed in a future version. Please adapt your code to use either `displot` (a figure-level function with similar flexibility) or `histplot` (an axes-level function for histograms).\n",
      "  warnings.warn(msg, FutureWarning)\n"
     ]
    },
    {
     "data": {
      "image/png": "[encoded data removed]",
      "text/plain": [
       "<Figure size 432x288 with 1 Axes>"
      ]
     },
     "metadata": {
      "needs_background": "light"
     },
     "output_type": "display_data"
    }
   ],
   "source": [
    "check_normal_errors(y, y_pred)"
   ]
  },
  {
   "cell_type": "markdown",
   "id": "7793d95d-ebbf-4f70-9591-3b5a9f88a51e",
   "metadata": {},
   "source": [
    "### Assumption 2: No Multicollinearity"
   ]
  },
  {
   "cell_type": "code",
   "execution_count": 12,
   "id": "e2991190-e949-4316-ae91-955c1d36688c",
   "metadata": {},
   "outputs": [
    {
     "data": {
      "image/png": "[encoded data removed]",
      "text/plain": [
       "<Figure size 432x288 with 2 Axes>"
      ]
     },
     "metadata": {
      "needs_background": "light"
     },
     "output_type": "display_data"
    },
    {
     "name": "stdout",
     "output_type": "stream",
     "text": [
      "cylinders: 115.97777160980726\n",
      "displacement: 86.48595590611876\n",
      "horsepower: 60.25657462146676\n",
      "weight: 137.4717563697324\n",
      "acceleration: 69.40087667701684\n",
      "year: 109.3200159587966\n",
      "\n",
      "dropping 'weight' at index: 3\n",
      "dropping 'cylinders' at index: 0\n",
      "Remaining variables:\n",
      "Index(['displacement', 'horsepower', 'acceleration', 'year'], dtype='object')\n"
     ]
    },
    {
     "data": {
      "text/html": [
       "<div>\n",
       "<style scoped>\n",
       "    .dataframe tbody tr th:only-of-type {\n",
       "        vertical-align: middle;\n",
       "    }\n",
       "\n",
       "    .dataframe tbody tr th {\n",
       "        vertical-align: top;\n",
       "    }\n",
       "\n",
       "    .dataframe thead th {\n",
       "        text-align: right;\n",
       "    }\n",
       "</style>\n",
       "<table border=\"1\" class=\"dataframe\">\n",
       "  <thead>\n",
       "    <tr style=\"text-align: right;\">\n",
       "      <th></th>\n",
       "      <th>displacement</th>\n",
       "      <th>horsepower</th>\n",
       "      <th>acceleration</th>\n",
       "      <th>year</th>\n",
       "    </tr>\n",
       "  </thead>\n",
       "  <tbody>\n",
       "    <tr>\n",
       "      <th>0</th>\n",
       "      <td>307.0</td>\n",
       "      <td>130.0</td>\n",
       "      <td>12.0</td>\n",
       "      <td>70</td>\n",
       "    </tr>\n",
       "    <tr>\n",
       "      <th>1</th>\n",
       "      <td>350.0</td>\n",
       "      <td>165.0</td>\n",
       "      <td>11.5</td>\n",
       "      <td>70</td>\n",
       "    </tr>\n",
       "    <tr>\n",
       "      <th>2</th>\n",
       "      <td>318.0</td>\n",
       "      <td>150.0</td>\n",
       "      <td>11.0</td>\n",
       "      <td>70</td>\n",
       "    </tr>\n",
       "    <tr>\n",
       "      <th>3</th>\n",
       "      <td>304.0</td>\n",
       "      <td>150.0</td>\n",
       "      <td>12.0</td>\n",
       "      <td>70</td>\n",
       "    </tr>\n",
       "    <tr>\n",
       "      <th>4</th>\n",
       "      <td>302.0</td>\n",
       "      <td>140.0</td>\n",
       "      <td>10.5</td>\n",
       "      <td>70</td>\n",
       "    </tr>\n",
       "  </tbody>\n",
       "</table>\n",
       "</div>"
      ],
      "text/plain": [
       "   displacement  horsepower  acceleration  year\n",
       "0         307.0       130.0          12.0    70\n",
       "1         350.0       165.0          11.5    70\n",
       "2         318.0       150.0          11.0    70\n",
       "3         304.0       150.0          12.0    70\n",
       "4         302.0       140.0          10.5    70"
      ]
     },
     "execution_count": 12,
     "metadata": {},
     "output_type": "execute_result"
    }
   ],
   "source": [
    "X_vif_filtered = check_multicollinearity(model, X, y)\n",
    "X_vif_filtered.head()"
   ]
  },
  {
   "cell_type": "markdown",
   "id": "e43a98c1-8a85-412c-ab92-b6225126f3a2",
   "metadata": {},
   "source": [
    "### Assumption 3: No autocorrelation"
   ]
  },
  {
   "cell_type": "code",
   "execution_count": 13,
   "id": "41dc4c69-8c2a-4306-8c89-e1af58a6ac62",
   "metadata": {},
   "outputs": [
    {
     "name": "stdout",
     "output_type": "stream",
     "text": [
      "Durbin-Watson: 1.2318834242780365\n",
      "Positive autocorrelation\n"
     ]
    }
   ],
   "source": [
    "check_autocorrelation(y, y_pred)"
   ]
  },
  {
   "cell_type": "markdown",
   "id": "47b1b453-d7fc-402e-857a-2835974eab40",
   "metadata": {},
   "source": [
    "### Assumption 4: No Heteroscedasticity"
   ]
  },
  {
   "cell_type": "code",
   "execution_count": 15,
   "id": "f32c31db-c5a6-44ff-b294-e75166786cad",
   "metadata": {},
   "outputs": [
    {
     "data": {
      "image/png": "[encoded data removed]",
      "text/plain": [
       "<Figure size 432x288 with 1 Axes>"
      ]
     },
     "metadata": {
      "needs_background": "light"
     },
     "output_type": "display_data"
    }
   ],
   "source": [
    "check_homoscedasticity(y, y_pred)"
   ]
  },
  {
   "cell_type": "markdown",
   "id": "5a308fa2-53c5-4eca-abc5-7b61efee324b",
   "metadata": {},
   "source": [
    "### Assumption 5: Linearity between target and features"
   ]
  },
  {
   "cell_type": "code",
   "execution_count": 9,
   "id": "63301bf7-2c07-4e37-919e-c41e873964b4",
   "metadata": {},
   "outputs": [
    {
     "name": "stdout",
     "output_type": "stream",
     "text": [
      "Mean Squared Error from model is 11.590170981415227\n"
     ]
    },
    {
     "data": {
      "image/png": "[encoded data removed]",
      "text/plain": [
       "<Figure size 432x288 with 1 Axes>"
      ]
     },
     "metadata": {
      "needs_background": "light"
     },
     "output_type": "display_data"
    }
   ],
   "source": [
    "plot_prediction_comparison(y, model.predict(X))"
   ]
  },
  {
   "cell_type": "code",
   "execution_count": null,
   "id": "693f9ddd-1fee-41b6-8b5c-3b386f755246",
   "metadata": {},
   "outputs": [],
   "source": []
  }
 ],
 "metadata": {
  "kernelspec": {
   "display_name": "Python 3 (ipykernel)",
   "language": "python",
   "name": "python3"
  },
  "language_info": {
   "codemirror_mode": {
    "name": "ipython",
    "version": 3
   },
   "file_extension": ".py",
   "mimetype": "text/x-python",
   "name": "python",
   "nbconvert_exporter": "python",
   "pygments_lexer": "ipython3",
   "version": "3.9.5"
  }
 },
 "nbformat": 4,
 "nbformat_minor": 5
}
