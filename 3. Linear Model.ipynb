{
 "cells": [
  {
   "cell_type": "markdown",
   "id": "2161aabb-9816-404c-9a84-396e860ed91b",
   "metadata": {},
   "source": [
    "# Introduction\n",
    "The following notebook demonstrates the following:  \n",
    "* [ ] Train OLS model\n",
    "* [ ] Validate assumptions for OLS\n",
    "\n",
    "**NOTE**: The purpose of this notebook is to quickly refer to this set for specific validations and visualizations. It does not bother to do a train/test split. "
   ]
  },
  {
   "cell_type": "code",
   "execution_count": 15,
   "id": "f3fbd60d-d540-4f52-8417-b134943253f5",
   "metadata": {},
   "outputs": [],
   "source": [
    "import pandas as pd\n",
    "import numpy as np\n",
    "import matplotlib.pyplot as plt\n",
    "from sklearn.linear_model import LinearRegression\n",
    "from sklearn.metrics import mean_squared_error\n",
    "\n",
    "from src.utils import import_dataset, get_column_by_type"
   ]
  },
  {
   "cell_type": "code",
   "execution_count": 2,
   "id": "32804815-7789-4508-870c-220687c9f14b",
   "metadata": {},
   "outputs": [],
   "source": [
    "dat = import_dataset()"
   ]
  },
  {
   "cell_type": "code",
   "execution_count": 3,
   "id": "d0a678df-c332-4843-8db7-9f5becda0608",
   "metadata": {},
   "outputs": [
    {
     "data": {
      "text/html": [
       "<div>\n",
       "<style scoped>\n",
       "    .dataframe tbody tr th:only-of-type {\n",
       "        vertical-align: middle;\n",
       "    }\n",
       "\n",
       "    .dataframe tbody tr th {\n",
       "        vertical-align: top;\n",
       "    }\n",
       "\n",
       "    .dataframe thead th {\n",
       "        text-align: right;\n",
       "    }\n",
       "</style>\n",
       "<table border=\"1\" class=\"dataframe\">\n",
       "  <thead>\n",
       "    <tr style=\"text-align: right;\">\n",
       "      <th></th>\n",
       "      <th>mpg</th>\n",
       "      <th>cylinders</th>\n",
       "      <th>displacement</th>\n",
       "      <th>horsepower</th>\n",
       "      <th>weight</th>\n",
       "      <th>acceleration</th>\n",
       "      <th>year</th>\n",
       "    </tr>\n",
       "  </thead>\n",
       "  <tbody>\n",
       "    <tr>\n",
       "      <th>0</th>\n",
       "      <td>18.0</td>\n",
       "      <td>8</td>\n",
       "      <td>307.0</td>\n",
       "      <td>130.0</td>\n",
       "      <td>3504.0</td>\n",
       "      <td>12.0</td>\n",
       "      <td>70</td>\n",
       "    </tr>\n",
       "    <tr>\n",
       "      <th>1</th>\n",
       "      <td>15.0</td>\n",
       "      <td>8</td>\n",
       "      <td>350.0</td>\n",
       "      <td>165.0</td>\n",
       "      <td>3693.0</td>\n",
       "      <td>11.5</td>\n",
       "      <td>70</td>\n",
       "    </tr>\n",
       "    <tr>\n",
       "      <th>2</th>\n",
       "      <td>18.0</td>\n",
       "      <td>8</td>\n",
       "      <td>318.0</td>\n",
       "      <td>150.0</td>\n",
       "      <td>3436.0</td>\n",
       "      <td>11.0</td>\n",
       "      <td>70</td>\n",
       "    </tr>\n",
       "    <tr>\n",
       "      <th>3</th>\n",
       "      <td>16.0</td>\n",
       "      <td>8</td>\n",
       "      <td>304.0</td>\n",
       "      <td>150.0</td>\n",
       "      <td>3433.0</td>\n",
       "      <td>12.0</td>\n",
       "      <td>70</td>\n",
       "    </tr>\n",
       "    <tr>\n",
       "      <th>4</th>\n",
       "      <td>17.0</td>\n",
       "      <td>8</td>\n",
       "      <td>302.0</td>\n",
       "      <td>140.0</td>\n",
       "      <td>3449.0</td>\n",
       "      <td>10.5</td>\n",
       "      <td>70</td>\n",
       "    </tr>\n",
       "  </tbody>\n",
       "</table>\n",
       "</div>"
      ],
      "text/plain": [
       "    mpg  cylinders  displacement  horsepower  weight  acceleration  year\n",
       "0  18.0          8         307.0       130.0  3504.0          12.0    70\n",
       "1  15.0          8         350.0       165.0  3693.0          11.5    70\n",
       "2  18.0          8         318.0       150.0  3436.0          11.0    70\n",
       "3  16.0          8         304.0       150.0  3433.0          12.0    70\n",
       "4  17.0          8         302.0       140.0  3449.0          10.5    70"
      ]
     },
     "execution_count": 3,
     "metadata": {},
     "output_type": "execute_result"
    }
   ],
   "source": [
    "# get all numeric columns\n",
    "dat = get_column_by_type(dat, object, exclude=True)\n",
    "dat.head()"
   ]
  },
  {
   "cell_type": "code",
   "execution_count": 4,
   "id": "d3a3eea2-14e6-4d42-a6e5-2455ffa4ab08",
   "metadata": {},
   "outputs": [],
   "source": [
    "y = dat['mpg']\n",
    "X = dat.loc[:, dat.columns != 'mpg']"
   ]
  },
  {
   "cell_type": "markdown",
   "id": "ab8611d9-165e-4ca7-9384-2edcf2bf2b13",
   "metadata": {},
   "source": [
    "# Using sklearn's LinearRegression model"
   ]
  },
  {
   "cell_type": "code",
   "execution_count": 5,
   "id": "2c1f451f-dbc0-4ebf-811b-91c34477ba27",
   "metadata": {},
   "outputs": [
    {
     "data": {
      "text/plain": [
       "LinearRegression()"
      ]
     },
     "execution_count": 5,
     "metadata": {},
     "output_type": "execute_result"
    }
   ],
   "source": [
    "model = LinearRegression()\n",
    "model.fit(X, y)"
   ]
  },
  {
   "cell_type": "code",
   "execution_count": 6,
   "id": "190510d9-d596-4c1c-816c-c4d1ab84d497",
   "metadata": {},
   "outputs": [
    {
     "name": "stdout",
     "output_type": "stream",
     "text": [
      "[-3.29859089e-01  7.67843024e-03 -3.91355574e-04 -6.79461791e-03\n",
      "  8.52732469e-02  7.53367180e-01]\n"
     ]
    }
   ],
   "source": [
    "print(model.coef_)"
   ]
  },
  {
   "cell_type": "code",
   "execution_count": 7,
   "id": "342b1338-2d0c-49fc-955c-e5fcc81b7e23",
   "metadata": {},
   "outputs": [
    {
     "data": {
      "text/html": [
       "<div>\n",
       "<style scoped>\n",
       "    .dataframe tbody tr th:only-of-type {\n",
       "        vertical-align: middle;\n",
       "    }\n",
       "\n",
       "    .dataframe tbody tr th {\n",
       "        vertical-align: top;\n",
       "    }\n",
       "\n",
       "    .dataframe thead th {\n",
       "        text-align: right;\n",
       "    }\n",
       "</style>\n",
       "<table border=\"1\" class=\"dataframe\">\n",
       "  <thead>\n",
       "    <tr style=\"text-align: right;\">\n",
       "      <th></th>\n",
       "      <th>Coeff</th>\n",
       "    </tr>\n",
       "  </thead>\n",
       "  <tbody>\n",
       "    <tr>\n",
       "      <th>cylinders</th>\n",
       "      <td>-0.329859</td>\n",
       "    </tr>\n",
       "    <tr>\n",
       "      <th>displacement</th>\n",
       "      <td>0.007678</td>\n",
       "    </tr>\n",
       "    <tr>\n",
       "      <th>horsepower</th>\n",
       "      <td>-0.000391</td>\n",
       "    </tr>\n",
       "    <tr>\n",
       "      <th>weight</th>\n",
       "      <td>-0.006795</td>\n",
       "    </tr>\n",
       "    <tr>\n",
       "      <th>acceleration</th>\n",
       "      <td>0.085273</td>\n",
       "    </tr>\n",
       "    <tr>\n",
       "      <th>year</th>\n",
       "      <td>0.753367</td>\n",
       "    </tr>\n",
       "  </tbody>\n",
       "</table>\n",
       "</div>"
      ],
      "text/plain": [
       "                 Coeff\n",
       "cylinders    -0.329859\n",
       "displacement  0.007678\n",
       "horsepower   -0.000391\n",
       "weight       -0.006795\n",
       "acceleration  0.085273\n",
       "year          0.753367"
      ]
     },
     "execution_count": 7,
     "metadata": {},
     "output_type": "execute_result"
    }
   ],
   "source": [
    "pd.DataFrame(model.coef_, X.columns, columns = ['Coeff'])"
   ]
  },
  {
   "cell_type": "code",
   "execution_count": 17,
   "id": "bb07537e-e90e-4e30-a458-83fdb0ffb10f",
   "metadata": {},
   "outputs": [
    {
     "name": "stdout",
     "output_type": "stream",
     "text": [
      "Mean Squared Error from model is 11.590170981415227\n"
     ]
    },
    {
     "data": {
      "image/png": "[encoded data removed]",
      "text/plain": [
       "<Figure size 432x288 with 1 Axes>"
      ]
     },
     "metadata": {
      "needs_background": "light"
     },
     "output_type": "display_data"
    }
   ],
   "source": [
    "def compare_predictions(y_test, y_pred):\n",
    "    \"\"\"Plot predictions in regression\"\"\"\n",
    "    a = plt.axes(aspect='equal')\n",
    "    plt.scatter(y, y_pred)\n",
    "    plt.xlabel(\"True Values [MPG]\")\n",
    "    plt.ylabel(\"Predictions [MPG]\")\n",
    "    lims = [0, y_test.max()*1.1]\n",
    "    plt.xlim(lims)\n",
    "    plt.ylim(lims)\n",
    "    plt.plot(lims, lims, color='black')\n",
    "    print(f\"Mean Squared Error from model is {mean_squared_error(y_test, y_pred)}\")\n",
    "    return\n",
    "\n",
    "compare_predictions(y, model.predict(X))"
   ]
  },
  {
   "cell_type": "code",
   "execution_count": 9,
   "id": "f856a123-9ca1-46ef-b7d9-af4ad6a3b95e",
   "metadata": {},
   "outputs": [
    {
     "data": {
      "image/png": "[encoded data removed]",
      "text/plain": [
       "<Figure size 432x288 with 1 Axes>"
      ]
     },
     "metadata": {
      "needs_background": "light"
     },
     "output_type": "display_data"
    }
   ],
   "source": [
    "def plot_error(y_test, y_pred):\n",
    "    error = y_test - y_pred\n",
    "    plt.hist(error, bins=25)\n",
    "    plt.xlabel('Prediction Error [MPG]')\n",
    "    plt.ylabel('Count')\n",
    "    return\n",
    "plot_error(y, model.predict(X))"
   ]
  },
  {
   "cell_type": "code",
   "execution_count": 14,
   "id": "df94fa85-7735-4c38-826a-98ef763c297b",
   "metadata": {
    "tags": []
   },
   "outputs": [
    {
     "name": "stdout",
     "output_type": "stream",
     "text": [
      "dropping 'weight' at index: 3\n",
      "dropping 'cylinders' at index: 0\n",
      "Remaining variables:\n",
      "Index(['displacement', 'horsepower', 'acceleration', 'year'], dtype='object')\n"
     ]
    }
   ],
   "source": [
    "from statsmodels.stats.outliers_influence import variance_inflation_factor    \n",
    "\n",
    "def calculate_vif_(X, thresh=100):\n",
    "    cols = X.columns\n",
    "    variables = np.arange(X.shape[1])\n",
    "    dropped=True\n",
    "    while dropped:\n",
    "        dropped=False\n",
    "        c = X[cols[variables]].values\n",
    "        vif = [variance_inflation_factor(c, ix) for ix in np.arange(c.shape[1])]\n",
    "\n",
    "        maxloc = vif.index(max(vif))\n",
    "        if max(vif) > thresh:\n",
    "            print('dropping \\'' + X[cols[variables]].columns[maxloc] + '\\' at index: ' + str(maxloc))\n",
    "            variables = np.delete(variables, maxloc)\n",
    "            dropped=True\n",
    "\n",
    "    print('Remaining variables:')\n",
    "    print(X.columns[variables])\n",
    "    return X[cols[variables]]\n",
    "\n",
    "X_col = calculate_vif_(X)"
   ]
  },
  {
   "cell_type": "code",
   "execution_count": 20,
   "id": "53493869-5831-49c1-8402-00df148babce",
   "metadata": {},
   "outputs": [
    {
     "name": "stdout",
     "output_type": "stream",
     "text": [
      "Mean Squared Error from model is 14.833754015461796\n"
     ]
    },
    {
     "data": {
      "image/png": "[encoded data removed]",
      "text/plain": [
       "<Figure size 432x288 with 1 Axes>"
      ]
     },
     "metadata": {
      "needs_background": "light"
     },
     "output_type": "display_data"
    }
   ],
   "source": [
    "model_col = LinearRegression()\n",
    "model_col.fit(X_col, y)\n",
    "compare_predictions(y, model_col.predict(X_col))"
   ]
  }
 ],
 "metadata": {
  "kernelspec": {
   "display_name": "Python 3 (ipykernel)",
   "language": "python",
   "name": "python3"
  },
  "language_info": {
   "codemirror_mode": {
    "name": "ipython",
    "version": 3
   },
   "file_extension": ".py",
   "mimetype": "text/x-python",
   "name": "python",
   "nbconvert_exporter": "python",
   "pygments_lexer": "ipython3",
   "version": "3.9.5"
  }
 },
 "nbformat": 4,
 "nbformat_minor": 5
}
